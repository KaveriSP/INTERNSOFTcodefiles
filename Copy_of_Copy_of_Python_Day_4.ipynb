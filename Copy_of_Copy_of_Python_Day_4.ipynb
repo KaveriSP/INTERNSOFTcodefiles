{
  "nbformat": 4,
  "nbformat_minor": 0,
  "metadata": {
    "kernelspec": {
      "display_name": "Python 3",
      "language": "python",
      "name": "python3"
    },
    "language_info": {
      "codemirror_mode": {
        "name": "ipython",
        "version": 3
      },
      "file_extension": ".py",
      "mimetype": "text/x-python",
      "name": "python",
      "nbconvert_exporter": "python",
      "pygments_lexer": "ipython3",
      "version": "3.7.3"
    },
    "colab": {
      "name": "Copy of Copy of Python Day 4.ipynb",
      "provenance": [],
      "collapsed_sections": [],
      "include_colab_link": true
    }
  },
  "cells": [
    {
      "cell_type": "markdown",
      "metadata": {
        "id": "view-in-github",
        "colab_type": "text"
      },
      "source": [
        "<a href=\"https://colab.research.google.com/github/KaveriSP/INTERNSOFTcodefiles/blob/main/Copy_of_Copy_of_Python_Day_4.ipynb\" target=\"_parent\"><img src=\"https://colab.research.google.com/assets/colab-badge.svg\" alt=\"Open In Colab\"/></a>"
      ]
    },
    {
      "cell_type": "markdown",
      "metadata": {
        "id": "4xkuWVCMp69Q"
      },
      "source": [
        "# Object Oriented Programming and File I/O"
      ]
    },
    {
      "cell_type": "markdown",
      "metadata": {
        "id": "Wt0P6XxCp69Y"
      },
      "source": [
        "__Object Oriented Programming (OOP)__ is a programming paradigm that allows abstraction through the concept of interacting entities. This programming works contradictory to conventional model and is procedural, in which programs are organized as a sequence of commands or statements to perform.\n",
        "\n",
        "We can think an object as an entity that resides in memory, has a state and it's able to perform some actions. \n",
        " \n",
        "More formally objects are entities that represent **instances** of a general abstract concept called **class**. In `Python`, \"attributes\" are the variables defining an object state and the possible actions are called \"methods\".\n",
        "\n",
        "In Python, everything is an object also classes and functions."
      ]
    },
    {
      "cell_type": "markdown",
      "metadata": {
        "id": "4_slx3_ip69b"
      },
      "source": [
        "## 1 How to define classes"
      ]
    },
    {
      "cell_type": "markdown",
      "metadata": {
        "id": "UGkWxwZbp69d"
      },
      "source": [
        "### 1.1 Creating a class"
      ]
    },
    {
      "cell_type": "markdown",
      "metadata": {
        "id": "2YL8wroUp69f"
      },
      "source": [
        "Suppose we want to create a class, named Person, as a prototype, a sort of template for any number of 'Person' objects (instances)."
      ]
    },
    {
      "cell_type": "markdown",
      "metadata": {
        "id": "xd3P3_UVp69k"
      },
      "source": [
        "The following python syntax defines a class:\n",
        "\n",
        "    class ClassName(base_classes):\n",
        "        statements\n",
        "\n",
        "        "
      ]
    },
    {
      "cell_type": "markdown",
      "metadata": {
        "id": "RNjQFlxQp69l"
      },
      "source": [
        "Class names should always be uppercase (it's a naming convention)."
      ]
    },
    {
      "cell_type": "markdown",
      "metadata": {
        "id": "Z60ONW0mp69n"
      },
      "source": [
        "Say we need to model a Person as:\n",
        "\n",
        "* Name\n",
        "* Surname  \n",
        "* Age  "
      ]
    },
    {
      "cell_type": "code",
      "metadata": {
        "id": "UH3qQhUxp69p",
        "colab": {
          "base_uri": "https://localhost:8080/"
        },
        "outputId": "96744e11-d400-47c7-a9f0-fbf5643d6f44"
      },
      "source": [
        "class Person():\n",
        "  pass\n",
        "\n",
        "john_doe=Person()\n",
        "john_doe.name=\"Alec\"\n",
        "john_doe.surname=\"Baldwin\"\n",
        "john_doe.year_of_birth=1958 \n",
        "\n",
        "print(john_doe)\n",
        "print(\"%s %s was born in %d.\" % \n",
        "       (john_doe.name,john_doe.surname,john_doe.year_of_birth)) "
      ],
      "execution_count": null,
      "outputs": [
        {
          "output_type": "stream",
          "name": "stdout",
          "text": [
            "<__main__.Person object at 0x7fbc5e3c24d0>\n",
            "Alec Baldwin was born in 1958.\n"
          ]
        }
      ]
    },
    {
      "cell_type": "markdown",
      "metadata": {
        "id": "m_jiu18hp69t"
      },
      "source": [
        "The following example defines an empty class (i.e. the class doesn't have a state) called _Person_ then creates a _Person_ instance called _john_doe_ and adds three attributes to _john_doe_. We see that we can access objects attributes using the \"dot\" operator.\n",
        "\n",
        "This isn't a recommended style because classes should describe homogeneous entities. A way to do so is the following:"
      ]
    },
    {
      "cell_type": "code",
      "metadata": {
        "id": "m2nlhVyup69v"
      },
      "source": [
        "class Person:\n",
        "  def __init__(self, name,surname,year_of_birth):\n",
        "    self.name=name\n",
        "    self.surname=surname\n",
        "    self.year_of_birth=year_of_birth"
      ],
      "execution_count": null,
      "outputs": []
    },
    {
      "cell_type": "markdown",
      "metadata": {
        "id": "2ODKjradp69v"
      },
      "source": [
        "    __init__(self, ...)\n",
        "Is a special _Python_ method that is automatically called after an object construction. Its purpose is to initialize every object state. The first argument (by convention) __self__ is automatically passed either and refers to the object itself.\n",
        "\n",
        "In the preceding example, `__init__` adds three attributes to every object that is instantiated. So the class is actually describing each object's state.\n"
      ]
    },
    {
      "cell_type": "markdown",
      "metadata": {
        "id": "4TzhwLBjp69w"
      },
      "source": [
        "We cannot directly manipulate any class rather we need to create an instance of the class: "
      ]
    },
    {
      "cell_type": "code",
      "metadata": {
        "id": "DdQEtwUqp69x",
        "colab": {
          "base_uri": "https://localhost:8080/"
        },
        "outputId": "e6ab0390-12c9-4ff3-d70e-cbfdc289e9d1"
      },
      "source": [
        "alec = Person(\"Alec\", \"Baldwin\", 1958)\n",
        "print(alec)\n",
        "print(\"%s %s was born in %d.\"%  (alec.name,alec.surname,alec.year_of_birth))\n",
        "\n"
      ],
      "execution_count": null,
      "outputs": [
        {
          "output_type": "stream",
          "name": "stdout",
          "text": [
            "<__main__.Person object at 0x7f7e450467d0>\n",
            "Alec Baldwin was born in 1958.\n"
          ]
        }
      ]
    },
    {
      "cell_type": "markdown",
      "metadata": {
        "id": "RWXxooTZp69y"
      },
      "source": [
        "\n",
        "We have just created an instance of the Person class, bound to the variable `alec`. "
      ]
    },
    {
      "cell_type": "markdown",
      "metadata": {
        "id": "qfglCkRNp69z"
      },
      "source": [
        "### 1.2 Methods"
      ]
    },
    {
      "cell_type": "code",
      "metadata": {
        "id": "5KUGB6zKp69z",
        "colab": {
          "base_uri": "https://localhost:8080/"
        },
        "outputId": "a95b7a6e-4428-403e-fc89-7e1851ab275b"
      },
      "source": [
        "class Person:\n",
        "  def __init__(self, name,surname,year_of_birth):\n",
        "    self.name=name\n",
        "    self.surname=surname\n",
        "    self.year_of_birth=year_of_birth\n",
        "\n",
        "  def age(self, current_year):\n",
        "      return current_year - self.year_of_birth\n",
        "\n",
        "  def __str__(self):\n",
        "     return \"%s %s was born in %d.\"%  (self.name,self.surname,self.year_of_birth) \n",
        "\n",
        "alec = Person(\"Alec\", \"Baldwin\" , 1958)\n",
        "print(alec)\n",
        "print(alec.age(2019))   "
      ],
      "execution_count": null,
      "outputs": [
        {
          "output_type": "stream",
          "name": "stdout",
          "text": [
            "Alec Baldwin was born in 1958.\n",
            "61\n"
          ]
        }
      ]
    },
    {
      "cell_type": "code",
      "metadata": {
        "id": "hpWJXCchp690",
        "colab": {
          "base_uri": "https://localhost:8080/"
        },
        "outputId": "5b6fba9e-1b72-4515-dbd6-36338312942e"
      },
      "source": [
        "class Person:\n",
        "  def __init__(self, name,surname,year_of_birth):\n",
        "    self.name=name\n",
        "    self.surname=surname\n",
        "    self.year_of_birth=year_of_birth\n",
        "\n",
        "  def age(self, current_year):\n",
        "      return current_year - self.year_of_birth\n",
        "\n",
        "  def __str__(self):\n",
        "     return \"%s %s was born in %d.\"%  (self.name,self.surname,self.year_of_birth) \n",
        "\n",
        "alec = Person(\"John\", \"Stark\" , 1995)\n",
        "print(alec)\n",
        "print(alec.age(2021))   "
      ],
      "execution_count": null,
      "outputs": [
        {
          "output_type": "stream",
          "name": "stdout",
          "text": [
            "John Stark was born in 1995.\n",
            "26\n"
          ]
        }
      ]
    },
    {
      "cell_type": "markdown",
      "metadata": {
        "id": "RGBy_NMDp690"
      },
      "source": [
        "We defined two more methods `age` and  `__str__`. The latter is once again a special method that is called by Python when the object has to be represented as a string (e.g. when has to be printed). If the `__str__` method isn't defined the **print** command shows the type of object and its address in memory. We can see that in order to call a method we use the same syntax for attributes (**instance_name.instance _method**)."
      ]
    },
    {
      "cell_type": "markdown",
      "metadata": {
        "id": "WRiqfALIp690"
      },
      "source": [
        "## 2 Inheritance"
      ]
    },
    {
      "cell_type": "markdown",
      "metadata": {
        "id": "uoHgEAG_p691"
      },
      "source": [
        "Once a class is defined it models a concept. It is useful to extend a class behavior to model a less general concept. Say we need to model a Student, but we know that every student is also a Person so we shouldn't model the Person again but inherit from it instead."
      ]
    },
    {
      "cell_type": "code",
      "metadata": {
        "id": "hipaaRpep691",
        "colab": {
          "base_uri": "https://localhost:8080/"
        },
        "outputId": "45b82fa6-93a3-4294-c9b9-d8c943de6ea6"
      },
      "source": [
        "class Student(Person):\n",
        "  def __init__(self, student_id, *args, **kwargs):\n",
        "    super(Student, self).__init__(*args, **kwargs)\n",
        "    self._student_id = student_id\n",
        "\n",
        "charlie = Student(1, 'Charlie', 'Brown', 2006)\n",
        "print(charlie)\n",
        "print(type(charlie))\n",
        "print(isinstance(charlie, Person))\n",
        "print(isinstance(charlie, object))    "
      ],
      "execution_count": null,
      "outputs": [
        {
          "output_type": "stream",
          "name": "stdout",
          "text": [
            "Charlie Brown was born in 2006.\n",
            "<class '__main__.Student'>\n",
            "True\n",
            "True\n"
          ]
        }
      ]
    },
    {
      "cell_type": "markdown",
      "metadata": {
        "id": "qgrTW0dDp691"
      },
      "source": [
        "Charlie now has the same behavior of a Person, but his state has also a student ID. A Person is one of the base classes of Student and Student is one of the sub classes of Person. Be aware that a subclass knows about its superclasses but the converse isn't true.\n",
        "\n",
        "A sub class doesn't only inherits from its base classes, but from its base classes too, forming an inheritance tree that starts from a object (every class base class).\n",
        "\n",
        "    super(Class, instance)\n",
        "    \n",
        "is a function that returns a proxy-object that delegates method calls to a parent or sibling class of type.\n",
        "So we used it to access Person's `__init__`."
      ]
    },
    {
      "cell_type": "markdown",
      "metadata": {
        "id": "xMLVuF-Ip694"
      },
      "source": [
        "### 2.1 Overriding methods"
      ]
    },
    {
      "cell_type": "markdown",
      "metadata": {
        "id": "0ye7TElHp695"
      },
      "source": [
        "Inheritance allows to add new methods to a subclass but often is useful to change the behavior of a method defined in the superclass. To override a method just define it again."
      ]
    },
    {
      "cell_type": "code",
      "metadata": {
        "id": "OrsSrp4kp696",
        "colab": {
          "base_uri": "https://localhost:8080/"
        },
        "outputId": "786106bb-4a69-4cfe-806c-123227216776"
      },
      "source": [
        "class Student(Person):\n",
        "  def __init__(self, student_id, *args, **kwargs):\n",
        "    super(Student, self).__init__(*args, **kwargs)\n",
        "    self._student_id = student_id\n",
        "\n",
        "  def __str__(self):\n",
        "    return super(Student, self).__str__() + \"And has ID: %d\" %self._student_id\n",
        "\n",
        "charlie = Student(1, 'Charlie', 'Brown', 2006)\n",
        "print(charlie)    "
      ],
      "execution_count": null,
      "outputs": [
        {
          "output_type": "stream",
          "name": "stdout",
          "text": [
            "Charlie Brown was born in 2006.And has ID: 1\n"
          ]
        }
      ]
    },
    {
      "cell_type": "markdown",
      "metadata": {
        "id": "JvQEsfRWp697"
      },
      "source": [
        "We defined `__str__` again overriding the one wrote in Person, but we wanted to extend it, so we used super to achieve our goal."
      ]
    },
    {
      "cell_type": "markdown",
      "metadata": {
        "id": "md1xk5AKp697"
      },
      "source": [
        "## 3 Encapsulation"
      ]
    },
    {
      "cell_type": "markdown",
      "metadata": {
        "id": "tQftDor5p698"
      },
      "source": [
        "Encapsulation is an another powerful way to extend a class which consists on wrapping an object with a second one.\n",
        "There are two main reasons to use encapsulation:\n",
        "* Composition\n",
        "* Dynamic Extension\n"
      ]
    },
    {
      "cell_type": "markdown",
      "metadata": {
        "id": "ZFF1Qtbop698"
      },
      "source": [
        "### 3.1 Composition"
      ]
    },
    {
      "cell_type": "markdown",
      "metadata": {
        "id": "AdeLMI3Ap699"
      },
      "source": [
        "The abstraction process relies on creating a simplified model that remove useless details from a concept. In order to be simplified, a model should be described in terms of other simpler concepts.\n",
        "For example, we can say that a car is composed by:\n",
        "* Tyres\n",
        "* Engine\n",
        "* Body\n",
        "\n",
        "And break down each one of these elements in simpler parts until we reach primitive data."
      ]
    },
    {
      "cell_type": "markdown",
      "metadata": {
        "id": "XhH9zr0sp699"
      },
      "source": [
        "## 4 Polymorphism and DuckTyping"
      ]
    },
    {
      "cell_type": "markdown",
      "metadata": {
        "id": "-FSdK7c5p69-"
      },
      "source": [
        "`Python` uses dynamic typing which is also called as duck typing. If an object implements a method you can use it, irrespective of the type. This is different from statically typed languages, where the type of a construct need to be explicitly declared. Polymorphism is the ability to use the same syntax for objects of different types:"
      ]
    },
    {
      "cell_type": "code",
      "metadata": {
        "id": "o-_T9phep69-",
        "colab": {
          "base_uri": "https://localhost:8080/"
        },
        "outputId": "e5e7a3b3-8a1f-43ea-e62f-a0c85146eaa3"
      },
      "source": [
        "def summer(a, b):\n",
        "  return a + b\n",
        "\n",
        "print(summer(1, 1))\n",
        "print(summer([\"a\", \"b\", \"c\"], [\"d\", \"e\"]))\n",
        "print(summer(\"abra\", \"cadabra\"))  "
      ],
      "execution_count": null,
      "outputs": [
        {
          "output_type": "stream",
          "name": "stdout",
          "text": [
            "2\n",
            "['a', 'b', 'c', 'd', 'e']\n",
            "abracadabra\n"
          ]
        }
      ]
    },
    {
      "cell_type": "markdown",
      "metadata": {
        "id": "GJgcnar7p69_"
      },
      "source": [
        "## 5 How long does a class should be?"
      ]
    },
    {
      "cell_type": "markdown",
      "metadata": {
        "id": "pTyHig6np69_"
      },
      "source": [
        "There is an Object Oriented Programming (OOP) principle called Single Responsibility Principle (SRP) and it states: \"A class should have one single responsibility\" or \"A class should have only one reason to change\". \n",
        "\n",
        "If you come across a class which doesn't follow the SRP principle, you should spilt it. You will be grateful to SRP during your software maintenance. "
      ]
    },
    {
      "cell_type": "markdown",
      "metadata": {
        "id": "wCMziwhwp6-A"
      },
      "source": [
        "# Files\n",
        "\n",
        "Python uses file objects to interact with the external files on your computer. These file objects cab be of any file format on your computer i.e. can be an audio file, a text file, emails, Excel documents, etc. Note that You will probably need to install certain libraries or modules to interact with those various file types, but they are easily available. (We will cover downloading modules later on in the course).\n",
        "\n",
        "Python has a built-in open function that allows us to open and play with basic file types. First we will need a file though. We're going to use some iPython magic to create a text file!\n",
        "\n",
        "## iPython Writing a File"
      ]
    },
    {
      "cell_type": "code",
      "metadata": {
        "id": "tTihPBODp6-A",
        "colab": {
          "base_uri": "https://localhost:8080/"
        },
        "outputId": "cb94f7e8-4d34-40b5-b61a-0298841814ef"
      },
      "source": [
        "%%writefile test.txt\n",
        "Hello, this is a quick test file"
      ],
      "execution_count": null,
      "outputs": [
        {
          "output_type": "stream",
          "name": "stdout",
          "text": [
            "Writing test.txt\n"
          ]
        }
      ]
    },
    {
      "cell_type": "markdown",
      "metadata": {
        "id": "d_Fh8OU7p6-A"
      },
      "source": [
        "## Python Opening a file\n",
        "\n",
        "We can open a file with the open() function. This function also takes in arguments (also called parameters). Let's see how this is used:"
      ]
    },
    {
      "cell_type": "code",
      "metadata": {
        "id": "1LIq0xTNp6-B"
      },
      "source": [
        "# Open the text.txt we made earlier\n",
        "my_file = open('test.txt')"
      ],
      "execution_count": null,
      "outputs": []
    },
    {
      "cell_type": "code",
      "metadata": {
        "id": "gCZjtqDlp6-B",
        "colab": {
          "base_uri": "https://localhost:8080/",
          "height": 35
        },
        "outputId": "08c1b4e1-b05e-49de-acd2-f6e1f72b0648"
      },
      "source": [
        "# We can now read the file\n",
        "my_file.read()"
      ],
      "execution_count": null,
      "outputs": [
        {
          "output_type": "execute_result",
          "data": {
            "application/vnd.google.colaboratory.intrinsic+json": {
              "type": "string"
            },
            "text/plain": [
              "'Hello, this is a quick test file'"
            ]
          },
          "metadata": {},
          "execution_count": 11
        }
      ]
    },
    {
      "cell_type": "code",
      "metadata": {
        "id": "4lxK6o0qp6-C",
        "colab": {
          "base_uri": "https://localhost:8080/",
          "height": 35
        },
        "outputId": "17794edd-9499-44fd-ab37-05a58f9dee76"
      },
      "source": [
        "# But what happens if we try to read it again?\n",
        "my_file.read()"
      ],
      "execution_count": null,
      "outputs": [
        {
          "output_type": "execute_result",
          "data": {
            "application/vnd.google.colaboratory.intrinsic+json": {
              "type": "string"
            },
            "text/plain": [
              "''"
            ]
          },
          "metadata": {},
          "execution_count": 12
        }
      ]
    },
    {
      "cell_type": "markdown",
      "metadata": {
        "id": "ZvNUcAXGp6-C"
      },
      "source": [
        "This happens because you can imagine the reading \"cursor\" is at the end of the file after having read it. So there is nothing left to read. We can reset the \"cursor\" like this:"
      ]
    },
    {
      "cell_type": "code",
      "metadata": {
        "id": "J0Pt6WTtp6-D",
        "colab": {
          "base_uri": "https://localhost:8080/"
        },
        "outputId": "34157778-8227-419a-a3e1-ff0cb354fdb5"
      },
      "source": [
        "# Seek to the start of file (index 0)\n",
        "my_file.seek(0)"
      ],
      "execution_count": null,
      "outputs": [
        {
          "output_type": "execute_result",
          "data": {
            "text/plain": [
              "0"
            ]
          },
          "metadata": {},
          "execution_count": 13
        }
      ]
    },
    {
      "cell_type": "code",
      "metadata": {
        "id": "9zqo9Xewp6-D",
        "colab": {
          "base_uri": "https://localhost:8080/",
          "height": 35
        },
        "outputId": "4a444048-d989-4fe9-f3af-78ced5c61f63"
      },
      "source": [
        "# Now read again\n",
        "my_file.read()"
      ],
      "execution_count": null,
      "outputs": [
        {
          "output_type": "execute_result",
          "data": {
            "application/vnd.google.colaboratory.intrinsic+json": {
              "type": "string"
            },
            "text/plain": [
              "'Hello, this is a quick test file'"
            ]
          },
          "metadata": {},
          "execution_count": 14
        }
      ]
    },
    {
      "cell_type": "markdown",
      "metadata": {
        "id": "A4dHTiiZp6-D"
      },
      "source": [
        "In order to not have to reset every time, we can also use the readlines method. Use caution with large files, since everything will be held in memory. We will learn how to iterate over large files later in the course."
      ]
    },
    {
      "cell_type": "code",
      "metadata": {
        "id": "KWUDNX2Lp6-E",
        "colab": {
          "base_uri": "https://localhost:8080/"
        },
        "outputId": "8750d01b-041c-4f7e-be38-56ea447af298"
      },
      "source": [
        "# Seek to the start of file (index 0)\n",
        "my_file.seek(0)"
      ],
      "execution_count": null,
      "outputs": [
        {
          "output_type": "execute_result",
          "data": {
            "text/plain": [
              "0"
            ]
          },
          "metadata": {},
          "execution_count": 15
        }
      ]
    },
    {
      "cell_type": "code",
      "metadata": {
        "id": "mry4QIX3p6-E",
        "colab": {
          "base_uri": "https://localhost:8080/"
        },
        "outputId": "0a2aac37-e0c9-4eb2-c9cc-61a705e89f62"
      },
      "source": [
        "# Readlines returns a list of the lines in the file.\n",
        "my_file.readlines()"
      ],
      "execution_count": null,
      "outputs": [
        {
          "output_type": "execute_result",
          "data": {
            "text/plain": [
              "['Hello, this is a quick test file']"
            ]
          },
          "metadata": {},
          "execution_count": 16
        }
      ]
    },
    {
      "cell_type": "markdown",
      "metadata": {
        "id": "9iFe2EaEp6-E"
      },
      "source": [
        "## Writing to a File\n",
        "\n",
        "By default, using the open() function will only allow us to read the file, we need to pass the argument 'w' to write over the file. For example:"
      ]
    },
    {
      "cell_type": "code",
      "metadata": {
        "id": "-eSUwy1fp6-E"
      },
      "source": [
        "# Add the second argument to the function, 'w' which stands for write\n",
        "my_file = open('test.txt', 'w+')"
      ],
      "execution_count": null,
      "outputs": []
    },
    {
      "cell_type": "code",
      "metadata": {
        "id": "K0ualtLGp6-E",
        "colab": {
          "base_uri": "https://localhost:8080/"
        },
        "outputId": "76740b04-9106-43d3-80b3-1e276c9269f6"
      },
      "source": [
        "# Write to the file\n",
        "my_file.write('This is a new line')"
      ],
      "execution_count": null,
      "outputs": [
        {
          "output_type": "execute_result",
          "data": {
            "text/plain": [
              "18"
            ]
          },
          "metadata": {},
          "execution_count": 24
        }
      ]
    },
    {
      "cell_type": "code",
      "metadata": {
        "id": "lvy_4f3-p6-F",
        "colab": {
          "base_uri": "https://localhost:8080/"
        },
        "outputId": "4558db64-8407-48b8-cfe0-5dce4a826ad0"
      },
      "source": [
        "# Seek to the start of file (index 0)\n",
        "my_file.seek(0)"
      ],
      "execution_count": null,
      "outputs": [
        {
          "output_type": "execute_result",
          "data": {
            "text/plain": [
              "0"
            ]
          },
          "metadata": {},
          "execution_count": 25
        }
      ]
    },
    {
      "cell_type": "code",
      "metadata": {
        "id": "fH5qSs8yp6-F",
        "colab": {
          "base_uri": "https://localhost:8080/",
          "height": 35
        },
        "outputId": "acbcdf1b-2695-4cf4-e914-f58059186df0"
      },
      "source": [
        "# Read the file\n",
        "my_file.read()"
      ],
      "execution_count": null,
      "outputs": [
        {
          "output_type": "execute_result",
          "data": {
            "application/vnd.google.colaboratory.intrinsic+json": {
              "type": "string"
            },
            "text/plain": [
              "'This is a new line'"
            ]
          },
          "metadata": {},
          "execution_count": 26
        }
      ]
    },
    {
      "cell_type": "markdown",
      "metadata": {
        "id": "e3tV5Cz-p6-F"
      },
      "source": [
        "## Iterating through a File\n",
        "\n",
        "Let's get a quick preview of a for loop by iterating over a text file. First, let's make a new text file with some iPython Magic:"
      ]
    },
    {
      "cell_type": "code",
      "metadata": {
        "id": "sFZG82Ikp6-F",
        "colab": {
          "base_uri": "https://localhost:8080/"
        },
        "outputId": "eddecfa6-a470-4973-cba3-a2cdd782dcad"
      },
      "source": [
        "%%writefile test.text\n",
        "First Line\n",
        "Second Line"
      ],
      "execution_count": null,
      "outputs": [
        {
          "output_type": "stream",
          "name": "stdout",
          "text": [
            "Overwriting test.text\n"
          ]
        }
      ]
    },
    {
      "cell_type": "markdown",
      "metadata": {
        "id": "KhlX7Dbip6-F"
      },
      "source": [
        "Now we can use a little bit of flow to tell the program to for through every line of the file and do something:"
      ]
    },
    {
      "cell_type": "code",
      "metadata": {
        "id": "E0hOxKyOp6-G",
        "colab": {
          "base_uri": "https://localhost:8080/"
        },
        "outputId": "bffe39ae-6ce2-40df-e970-f69edcdfd2c4"
      },
      "source": [
        "for line in open('test.txt'):\n",
        "  print(line)"
      ],
      "execution_count": null,
      "outputs": [
        {
          "output_type": "stream",
          "name": "stdout",
          "text": [
            "This is a new line\n"
          ]
        }
      ]
    },
    {
      "cell_type": "code",
      "metadata": {
        "id": "qeLiqGHkp6-G",
        "colab": {
          "base_uri": "https://localhost:8080/"
        },
        "outputId": "4f5b1348-e088-44d7-c26a-973a1bcbc0d7"
      },
      "source": [
        "# Pertaining to the first point above\n",
        "for asdf in ('test.txt'):\n",
        "  print(asdf)"
      ],
      "execution_count": null,
      "outputs": [
        {
          "output_type": "stream",
          "name": "stdout",
          "text": [
            "t\n",
            "e\n",
            "s\n",
            "t\n",
            ".\n",
            "t\n",
            "x\n",
            "t\n"
          ]
        }
      ]
    },
    {
      "cell_type": "markdown",
      "metadata": {
        "id": "n3rSo1QAp6-G"
      },
      "source": [
        "# StringIO \n",
        "\n",
        "The StringIO module implements an in-memory filelike object. This object can then be used as input or output to most functions that would expect a standard file object.\n",
        "\n",
        "The best way to show this is by example:"
      ]
    },
    {
      "cell_type": "code",
      "metadata": {
        "id": "ujoHV2I9p6-G"
      },
      "source": [
        "from io import StringIO"
      ],
      "execution_count": null,
      "outputs": []
    },
    {
      "cell_type": "code",
      "metadata": {
        "id": "cDU9qmGrp6-G"
      },
      "source": [
        "# Arbitrary String\n",
        "message = 'This is just a normal string.'"
      ],
      "execution_count": null,
      "outputs": []
    },
    {
      "cell_type": "code",
      "metadata": {
        "id": "flJ7y2bsp6-G"
      },
      "source": [
        "# Use StringIO method to set as file object\n",
        "f = StringIO(message)"
      ],
      "execution_count": null,
      "outputs": []
    },
    {
      "cell_type": "markdown",
      "metadata": {
        "id": "8z_caPjpp6-H"
      },
      "source": [
        "Now we have an object *f* that we will be able to treat just like a file. For example:"
      ]
    },
    {
      "cell_type": "code",
      "metadata": {
        "id": "5zgCyL0Kp6-H",
        "colab": {
          "base_uri": "https://localhost:8080/",
          "height": 35
        },
        "outputId": "934f519a-049f-4d99-e2d6-c25f5c057925"
      },
      "source": [
        "f.read()"
      ],
      "execution_count": null,
      "outputs": [
        {
          "output_type": "execute_result",
          "data": {
            "application/vnd.google.colaboratory.intrinsic+json": {
              "type": "string"
            },
            "text/plain": [
              "'This is just a normal string.'"
            ]
          },
          "metadata": {},
          "execution_count": 46
        }
      ]
    },
    {
      "cell_type": "markdown",
      "metadata": {
        "id": "AsssW6Tkp6-I"
      },
      "source": [
        "We can also write to it"
      ]
    },
    {
      "cell_type": "code",
      "metadata": {
        "id": "wWv81W20p6-I",
        "colab": {
          "base_uri": "https://localhost:8080/"
        },
        "outputId": "1071c859-5a10-49b0-d421-b0acd7546c41"
      },
      "source": [
        "f.write(' Second line written to file like object')"
      ],
      "execution_count": null,
      "outputs": [
        {
          "output_type": "execute_result",
          "data": {
            "text/plain": [
              "40"
            ]
          },
          "metadata": {},
          "execution_count": 48
        }
      ]
    },
    {
      "cell_type": "code",
      "metadata": {
        "id": "NI7mnu-tp6-I",
        "colab": {
          "base_uri": "https://localhost:8080/"
        },
        "outputId": "041421a3-2837-4ba3-a620-dc1b79610b08"
      },
      "source": [
        "# Reset cursor just like you would a file\n",
        "f.seek(0)"
      ],
      "execution_count": null,
      "outputs": [
        {
          "output_type": "execute_result",
          "data": {
            "text/plain": [
              "0"
            ]
          },
          "metadata": {},
          "execution_count": 49
        }
      ]
    },
    {
      "cell_type": "code",
      "metadata": {
        "id": "Aw4aZtZ9p6-J",
        "colab": {
          "base_uri": "https://localhost:8080/",
          "height": 35
        },
        "outputId": "25d4d3f8-57fa-4ca0-cf07-275c27275df9"
      },
      "source": [
        "# Read again\n",
        "f.read()"
      ],
      "execution_count": null,
      "outputs": [
        {
          "output_type": "execute_result",
          "data": {
            "application/vnd.google.colaboratory.intrinsic+json": {
              "type": "string"
            },
            "text/plain": [
              "'This is just a normal string. Second line written to file like object'"
            ]
          },
          "metadata": {},
          "execution_count": 50
        }
      ]
    },
    {
      "cell_type": "code",
      "metadata": {
        "id": "07o4U3DZp6-J"
      },
      "source": [
        ""
      ],
      "execution_count": null,
      "outputs": []
    }
  ]
}