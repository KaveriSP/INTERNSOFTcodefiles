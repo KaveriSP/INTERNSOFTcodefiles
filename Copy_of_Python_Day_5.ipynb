{
  "nbformat": 4,
  "nbformat_minor": 0,
  "metadata": {
    "kernelspec": {
      "display_name": "Python 3",
      "language": "python",
      "name": "python3"
    },
    "language_info": {
      "codemirror_mode": {
        "name": "ipython",
        "version": 3
      },
      "file_extension": ".py",
      "mimetype": "text/x-python",
      "name": "python",
      "nbconvert_exporter": "python",
      "pygments_lexer": "ipython3",
      "version": "3.7.3"
    },
    "colab": {
      "name": "Copy of Python Day 5.ipynb",
      "provenance": [],
      "collapsed_sections": [],
      "include_colab_link": true
    }
  },
  "cells": [
    {
      "cell_type": "markdown",
      "metadata": {
        "id": "view-in-github",
        "colab_type": "text"
      },
      "source": [
        "<a href=\"https://colab.research.google.com/github/KaveriSP/INTERNSOFTcodefiles/blob/main/Copy_of_Python_Day_5.ipynb\" target=\"_parent\"><img src=\"https://colab.research.google.com/assets/colab-badge.svg\" alt=\"Open In Colab\"/></a>"
      ]
    },
    {
      "cell_type": "markdown",
      "metadata": {
        "id": "5aqkx8Lcu72a"
      },
      "source": [
        "# Modules and Packages"
      ]
    },
    {
      "cell_type": "markdown",
      "metadata": {
        "id": "_l9XGo5_u72g"
      },
      "source": [
        "Modules in Python are simply Python files with the .py extension, which implement a set of functions. Modules are imported from other modules using the import command. Before you go ahead and import modules, check out the full list of built-in modules in the Python Standard library.\n",
        "\n",
        "When a module is loaded into a running script for the first time, it is initialized by executing the code in the module once. If another module in your code imports the same module again, it will not be loaded twice but once only - so local variables inside the module act as a \"singleton\" - they are initialized only once.\n",
        "\n",
        "If we want to import module math,  we simply import the module:"
      ]
    },
    {
      "cell_type": "code",
      "metadata": {
        "id": "EPF6Ua4Du72h"
      },
      "source": [
        "# import the library\n",
        "import math"
      ],
      "execution_count": null,
      "outputs": []
    },
    {
      "cell_type": "code",
      "metadata": {
        "id": "x5fyFR_Nu72i",
        "colab": {
          "base_uri": "https://localhost:8080/"
        },
        "outputId": "15fa195f-5c4c-4415-8330-630db12bd74b"
      },
      "source": [
        "# use it (ceiling rounding)\n",
        "math.ceil(2.4)"
      ],
      "execution_count": null,
      "outputs": [
        {
          "output_type": "execute_result",
          "data": {
            "text/plain": [
              "3"
            ]
          },
          "metadata": {},
          "execution_count": 2
        }
      ]
    },
    {
      "cell_type": "code",
      "metadata": {
        "id": "OuBnQOJoxedB",
        "colab": {
          "base_uri": "https://localhost:8080/"
        },
        "outputId": "a4764add-3644-4c80-f728-7569ea26ab88"
      },
      "source": [
        "math.floor(2.4)"
      ],
      "execution_count": null,
      "outputs": [
        {
          "output_type": "execute_result",
          "data": {
            "text/plain": [
              "2"
            ]
          },
          "metadata": {},
          "execution_count": 4
        }
      ]
    },
    {
      "cell_type": "markdown",
      "metadata": {
        "id": "xmT0O41ju72j"
      },
      "source": [
        "## Exploring built-in modules\n",
        "\n",
        "While exploring modules in Python, two important functions come in handy - the dir and help functions. dir functions show which functions are implemented in each module. Let us see the below example and understand better."
      ]
    },
    {
      "cell_type": "code",
      "metadata": {
        "id": "HAifAOiAu72j",
        "colab": {
          "base_uri": "https://localhost:8080/"
        },
        "outputId": "359a0b01-2b9c-4cb5-bc1e-9192b44d8d6e"
      },
      "source": [
        "print(dir(math))"
      ],
      "execution_count": null,
      "outputs": [
        {
          "output_type": "stream",
          "name": "stdout",
          "text": [
            "['__doc__', '__loader__', '__name__', '__package__', '__spec__', 'acos', 'acosh', 'asin', 'asinh', 'atan', 'atan2', 'atanh', 'ceil', 'copysign', 'cos', 'cosh', 'degrees', 'e', 'erf', 'erfc', 'exp', 'expm1', 'fabs', 'factorial', 'floor', 'fmod', 'frexp', 'fsum', 'gamma', 'gcd', 'hypot', 'inf', 'isclose', 'isfinite', 'isinf', 'isnan', 'ldexp', 'lgamma', 'log', 'log10', 'log1p', 'log2', 'modf', 'nan', 'pi', 'pow', 'radians', 'remainder', 'sin', 'sinh', 'sqrt', 'tan', 'tanh', 'tau', 'trunc']\n"
          ]
        }
      ]
    },
    {
      "cell_type": "markdown",
      "metadata": {
        "id": "CkMrrui8u72k"
      },
      "source": [
        "When we find the function in the module we want to use, we can read about it more using the help function, inside the Python interpreter:"
      ]
    },
    {
      "cell_type": "code",
      "metadata": {
        "id": "soYtAU9_u72k",
        "colab": {
          "base_uri": "https://localhost:8080/"
        },
        "outputId": "382672be-e61c-434d-f452-739bba98397d"
      },
      "source": [
        "help(math.ceil)"
      ],
      "execution_count": null,
      "outputs": [
        {
          "output_type": "stream",
          "name": "stdout",
          "text": [
            "Help on built-in function ceil in module math:\n",
            "\n",
            "ceil(x, /)\n",
            "    Return the ceiling of x as an Integral.\n",
            "    \n",
            "    This is the smallest integer >= x.\n",
            "\n"
          ]
        }
      ]
    },
    {
      "cell_type": "markdown",
      "metadata": {
        "id": "ZCbKeRA8u72l"
      },
      "source": [
        "## Writing modules\n",
        "Writing Python modules is very simple. To create a module of your own, simply create a new .py file with the module name, and then import it using the Python file name (without the .py extension) using the import command.\n",
        "\n",
        "## Writing packages\n",
        "Packages are name-spaces which contain multiple packages and modules themselves. They are simply directories, but with a twist.\n",
        "\n",
        "The twist is, each package in Python is a directory which MUST contain a special file called **\\__init\\__.py**. This file can be empty, and it indicates that the directory it contains is a Python package, so it can be imported the same way a module can be imported.\n",
        "\n",
        "If we create a directory called foo, which marks the package name, we can then create a module inside that package called bar. We also must not forget to add the **\\__init\\__.py** file inside the foo directory.\n",
        "\n",
        "To use the module bar, we can import it in two ways:"
      ]
    },
    {
      "cell_type": "code",
      "metadata": {
        "id": "wJ9mJ38Au72m",
        "colab": {
          "base_uri": "https://localhost:8080/",
          "height": 299
        },
        "outputId": "3a19f0fb-5c4e-4e7c-b644-d11a925d7c4e"
      },
      "source": [
        "# Just an example, this won't work\n",
        "import foo.bar"
      ],
      "execution_count": null,
      "outputs": [
        {
          "output_type": "error",
          "ename": "ModuleNotFoundError",
          "evalue": "ignored",
          "traceback": [
            "\u001b[0;31m---------------------------------------------------------------------------\u001b[0m",
            "\u001b[0;31mModuleNotFoundError\u001b[0m                       Traceback (most recent call last)",
            "\u001b[0;32m<ipython-input-9-55da487b42c6>\u001b[0m in \u001b[0;36m<module>\u001b[0;34m()\u001b[0m\n\u001b[0;32m----> 1\u001b[0;31m \u001b[0;32mimport\u001b[0m \u001b[0mfoo\u001b[0m\u001b[0;34m.\u001b[0m\u001b[0mbar\u001b[0m\u001b[0;34m\u001b[0m\u001b[0;34m\u001b[0m\u001b[0m\n\u001b[0m",
            "\u001b[0;31mModuleNotFoundError\u001b[0m: No module named 'foo'",
            "",
            "\u001b[0;31m---------------------------------------------------------------------------\u001b[0;32m\nNOTE: If your import is failing due to a missing package, you can\nmanually install dependencies using either !pip or !apt.\n\nTo view examples of installing some common dependencies, click the\n\"Open Examples\" button below.\n\u001b[0;31m---------------------------------------------------------------------------\u001b[0m\n"
          ],
          "errorDetails": {
            "actions": [
              {
                "action": "open_url",
                "actionText": "Open Examples",
                "url": "/notebooks/snippets/importing_libraries.ipynb"
              }
            ]
          }
        }
      ]
    },
    {
      "cell_type": "code",
      "metadata": {
        "id": "9eR5FnGau72n",
        "colab": {
          "base_uri": "https://localhost:8080/",
          "height": 299
        },
        "outputId": "5fe412dd-520d-4edd-94bc-974be664bfce"
      },
      "source": [
        "# OR could do it this way\n",
        "from foo import bar "
      ],
      "execution_count": null,
      "outputs": [
        {
          "output_type": "error",
          "ename": "ModuleNotFoundError",
          "evalue": "ignored",
          "traceback": [
            "\u001b[0;31m---------------------------------------------------------------------------\u001b[0m",
            "\u001b[0;31mModuleNotFoundError\u001b[0m                       Traceback (most recent call last)",
            "\u001b[0;32m<ipython-input-10-d4e8eafd4789>\u001b[0m in \u001b[0;36m<module>\u001b[0;34m()\u001b[0m\n\u001b[0;32m----> 1\u001b[0;31m \u001b[0;32mfrom\u001b[0m \u001b[0mfoo\u001b[0m \u001b[0;32mimport\u001b[0m \u001b[0mbar\u001b[0m\u001b[0;34m\u001b[0m\u001b[0;34m\u001b[0m\u001b[0m\n\u001b[0m",
            "\u001b[0;31mModuleNotFoundError\u001b[0m: No module named 'foo'",
            "",
            "\u001b[0;31m---------------------------------------------------------------------------\u001b[0;32m\nNOTE: If your import is failing due to a missing package, you can\nmanually install dependencies using either !pip or !apt.\n\nTo view examples of installing some common dependencies, click the\n\"Open Examples\" button below.\n\u001b[0;31m---------------------------------------------------------------------------\u001b[0m\n"
          ],
          "errorDetails": {
            "actions": [
              {
                "action": "open_url",
                "actionText": "Open Examples",
                "url": "/notebooks/snippets/importing_libraries.ipynb"
              }
            ]
          }
        }
      ]
    },
    {
      "cell_type": "markdown",
      "metadata": {
        "id": "xrsQoHStu72n"
      },
      "source": [
        "In the first method, we must use the foo prefix whenever we access the module bar. In the second method, we don't, because we import the module to our module's name-space.\n",
        "\n",
        "The **\\__init\\__.py** file can also decide which modules the package exports as the API, while keeping other modules internal, by overriding the **\\__all\\__** variable, like so:"
      ]
    },
    {
      "cell_type": "code",
      "metadata": {
        "id": "8VI0X3jGu72o"
      },
      "source": [
        "__init__.py\n",
        "__all__=[\"bar\"]"
      ],
      "execution_count": null,
      "outputs": []
    },
    {
      "cell_type": "markdown",
      "metadata": {
        "id": "7BH31ClTu72o"
      },
      "source": [
        "# Errors and Exception Handling\n",
        "\n",
        "In this section, we will learn about Errors and Exception Handling in Python. You've might have definitely encountered errors by this point in the course. For example:"
      ]
    },
    {
      "cell_type": "code",
      "metadata": {
        "id": "eoYoV451u72q",
        "colab": {
          "base_uri": "https://localhost:8080/",
          "height": 129
        },
        "outputId": "410f8ba6-df0c-4308-81d0-0d4515f224c1"
      },
      "source": [
        "print('Hello)"
      ],
      "execution_count": null,
      "outputs": [
        {
          "output_type": "error",
          "ename": "SyntaxError",
          "evalue": "ignored",
          "traceback": [
            "\u001b[0;36m  File \u001b[0;32m\"<ipython-input-12-db8c9988558c>\"\u001b[0;36m, line \u001b[0;32m1\u001b[0m\n\u001b[0;31m    print('Hello)\u001b[0m\n\u001b[0m                 ^\u001b[0m\n\u001b[0;31mSyntaxError\u001b[0m\u001b[0;31m:\u001b[0m EOL while scanning string literal\n"
          ]
        }
      ]
    },
    {
      "cell_type": "markdown",
      "metadata": {
        "id": "oWQDhqEbu72q"
      },
      "source": [
        "Note how we get a SyntaxError, with the further description that it was an End of Line Error (EOL) while scanning the string literal. This is specific enough for us to see that we forgot a single quote at the end of the line. Understanding of these various error types will help you debug your code much faster. \n",
        "\n",
        "This type of error and description is known as an Exception. Even if a statement or expression is syntactically correct, it may cause an error when an attempt is made to execute it. Errors detected during execution are called exceptions and are not unconditionally fatal.\n",
        "\n",
        "You can check out the full list of built-in exceptions [here](https://docs.python.org/2/library/exceptions.html). Now, let's learn how to handle errors and exceptions in our own code."
      ]
    },
    {
      "cell_type": "markdown",
      "metadata": {
        "id": "LX1ww1REu72r"
      },
      "source": [
        "## try and except\n",
        "\n",
        "The basic terminology and syntax used to handle errors in Python is the **try** and **except** statements. The code which can cause an exception to occur is put in the *try* block and the handling of the exception are the implemented in the *except* block of code. The syntax form is:\n",
        "\n",
        "    try:\n",
        "       You do your operations here...\n",
        "       ...\n",
        "    except ExceptionI:\n",
        "       If there is ExceptionI, then execute this block.\n",
        "    except ExceptionII:\n",
        "       If there is ExceptionII, then execute this block.\n",
        "       ...\n",
        "    else:\n",
        "       If there is no exception then execute this block. \n",
        "\n",
        "Using just except, we can check for any exception: To understand better let's check out a sample code that opens and writes a file:"
      ]
    },
    {
      "cell_type": "code",
      "metadata": {
        "id": "7WW75efxu72r",
        "colab": {
          "base_uri": "https://localhost:8080/"
        },
        "outputId": "4afaaa6a-163f-4198-951b-7153e694842a"
      },
      "source": [
        " try:\n",
        "    f=open('testfile','w')\n",
        "    f.write('Test write this')\n",
        " except IOError:\n",
        "    print(\"Error: Could not find this file or read data\")\n",
        " else:\n",
        "    print(\"Content written successfully\")\n",
        "    f.close()    "
      ],
      "execution_count": null,
      "outputs": [
        {
          "output_type": "stream",
          "name": "stdout",
          "text": [
            "Error: Could not find this file or read data\n"
          ]
        }
      ]
    },
    {
      "cell_type": "markdown",
      "metadata": {
        "id": "kD6mdKiAu72s"
      },
      "source": [
        "Now, let's see what happens when we don't have write permission? (opening only with 'r'):"
      ]
    },
    {
      "cell_type": "code",
      "metadata": {
        "id": "yiDFi3GYu72s",
        "colab": {
          "base_uri": "https://localhost:8080/",
          "height": 163
        },
        "outputId": "a5cc1937-66a4-4b92-cd3c-a1e93e4c5136"
      },
      "source": [
        "try:\n",
        "    f=open('testfile','r')\n",
        "    f.write('Test write this')\n",
        "except IOError:\n",
        "    print(\"Error: Could not find this file or read data\")\n",
        "else:\n",
        "    print(\"Content written successfully\")\n",
        "    f.close()    "
      ],
      "execution_count": null,
      "outputs": [
        {
          "output_type": "error",
          "ename": "NameError",
          "evalue": "ignored",
          "traceback": [
            "\u001b[0;31m---------------------------------------------------------------------------\u001b[0m",
            "\u001b[0;31mNameError\u001b[0m                                 Traceback (most recent call last)",
            "\u001b[0;32m<ipython-input-24-aa641f82ac78>\u001b[0m in \u001b[0;36m<module>\u001b[0;34m()\u001b[0m\n\u001b[0;32m----> 1\u001b[0;31m \u001b[0mf\u001b[0m\u001b[0;34m.\u001b[0m\u001b[0mclose\u001b[0m\u001b[0;34m(\u001b[0m\u001b[0;34m)\u001b[0m\u001b[0;34m\u001b[0m\u001b[0;34m\u001b[0m\u001b[0m\n\u001b[0m",
            "\u001b[0;31mNameError\u001b[0m: name 'f' is not defined"
          ]
        }
      ]
    },
    {
      "cell_type": "markdown",
      "metadata": {
        "id": "d7hRmxOlu72s"
      },
      "source": [
        "Notice, how we only printed a statement! The code still ran and we were able to continue doing actions and running code blocks. This is extremely useful when you have to account for possible input errors in your code. You can be prepared for the error and keep running code, instead of your code just breaking as we saw above.\n",
        "\n",
        "We could have also just said except: if we weren't sure what exception would occur. For example:"
      ]
    },
    {
      "cell_type": "markdown",
      "metadata": {
        "id": "3TTzT43Ju72t"
      },
      "source": [
        "Now, we don't actually need to memorize the list of exception types! Now what \n",
        "\n",
        "---\n",
        "\n",
        "if we keep wanting to run code after the exception occurred? This is where \n",
        "\n",
        "---\n",
        "\n",
        "**finally** comes in.\n",
        "\n",
        "---\n",
        "\n",
        "\n",
        "\n",
        "---\n",
        "\n",
        "\n",
        "##finally\n",
        "The finally: Block of code will always be run regardless if there was an exception in the try code block. The syntax is:\n",
        "\n",
        "    try:\n",
        "       Code block here\n",
        "       ...\n",
        "       Due to any exception, this code may be skipped!\n",
        "    finally:\n",
        "       This code block would always be executed.\n",
        "\n",
        "For example:"
      ]
    },
    {
      "cell_type": "code",
      "metadata": {
        "id": "kn0PSYHpu72t",
        "colab": {
          "base_uri": "https://localhost:8080/"
        },
        "outputId": "0242c9c3-fa26-4a71-8d93-2fd4f367b9db"
      },
      "source": [
        "try:\n",
        "    f=open(\"testfile\",\"w\")\n",
        "    f.write(\"Test write this\")\n",
        "finally:\n",
        "    print(\"Always execute finally code block\")"
      ],
      "execution_count": null,
      "outputs": [
        {
          "output_type": "stream",
          "name": "stdout",
          "text": [
            "Always execute finally code block\n"
          ]
        }
      ]
    },
    {
      "cell_type": "markdown",
      "metadata": {
        "id": "ePWt2TJuu72u"
      },
      "source": [
        "We can use this in conjunction with except. Let's see a new example that will take into account a user putting in the wrong input:"
      ]
    },
    {
      "cell_type": "code",
      "metadata": {
        "id": "w9BOkfb7u72u"
      },
      "source": [
        "  def askint():\n",
        "     try:\n",
        "         val=int(input(\"Please enter an integer:\"))\n",
        "     except:\n",
        "         print(\"Looks like you did not enter an integer!\")\n",
        "     finally:\n",
        "         print(\"Finally,I executed!\")\n",
        "         print(val)      "
      ],
      "execution_count": null,
      "outputs": []
    },
    {
      "cell_type": "code",
      "metadata": {
        "id": "WjT2Ogywu72u",
        "colab": {
          "base_uri": "https://localhost:8080/"
        },
        "outputId": "f1f6ebae-20d2-42e6-e26c-e2262ae2d1ca"
      },
      "source": [
        "askint()"
      ],
      "execution_count": null,
      "outputs": [
        {
          "output_type": "stream",
          "name": "stdout",
          "text": [
            "Please enter an integer:123\n",
            "Finally,I executed!\n",
            "123\n"
          ]
        }
      ]
    },
    {
      "cell_type": "code",
      "metadata": {
        "colab": {
          "base_uri": "https://localhost:8080/"
        },
        "id": "7BuB9XnRNyeX",
        "outputId": "eb267a5c-d6e4-4ded-8382-7c367f0a3574"
      },
      "source": [
        "askint()"
      ],
      "execution_count": null,
      "outputs": [
        {
          "output_type": "stream",
          "name": "stdout",
          "text": [
            "Please enter an integer:456\n",
            "Finally,I executed!\n",
            "456\n"
          ]
        }
      ]
    },
    {
      "cell_type": "markdown",
      "metadata": {
        "id": "Uqg98dGHu72v"
      },
      "source": [
        "Check how we got an error when trying to print val (because it was properly assigned). Let's find the right solution by asking the user and checking to make sure the input type is an integer:"
      ]
    },
    {
      "cell_type": "code",
      "metadata": {
        "id": "QJ3W3QsEMumF"
      },
      "source": [
        "def askint():\n",
        "     try:\n",
        "         val=int(input(\"Please enter an integer:\"))\n",
        "     except:\n",
        "         print(\"Looks like you did not enter an integer!\")\n",
        "         val=int(input(\"Try-again enter an integer:\"))\n",
        "     finally:\n",
        "         print(\"Finally,I executed!\")\n",
        "         print(val)    "
      ],
      "execution_count": null,
      "outputs": []
    },
    {
      "cell_type": "code",
      "metadata": {
        "colab": {
          "base_uri": "https://localhost:8080/"
        },
        "id": "0RYaI2PFNJns",
        "outputId": "63b22c39-3b76-4ab9-ab03-0fad73ebeb4d"
      },
      "source": [
        "askint()"
      ],
      "execution_count": null,
      "outputs": [
        {
          "output_type": "stream",
          "name": "stdout",
          "text": [
            "Please enter an integer:str\n",
            "Looks like you did not enter an integer!\n",
            "Try-again enter an integer:123\n",
            "Finally,I executed!\n",
            "123\n"
          ]
        }
      ]
    },
    {
      "cell_type": "markdown",
      "metadata": {
        "id": "FZp84W3ku72v"
      },
      "source": [
        "Hmmm...that only did one check. How can we continually keep checking? We can use a while loop!"
      ]
    },
    {
      "cell_type": "code",
      "metadata": {
        "id": "Q67WPGj8u72v"
      },
      "source": [
        "def askint():\n",
        "    while True:\n",
        "         try:\n",
        "             val=int(input(\"Please enter an integer:\"))\n",
        "         except:\n",
        "             print(\"Looks like you did not enter an integer!\")\n",
        "             continue\n",
        "         else:\n",
        "             print(\"Yeps thats an integer\")\n",
        "             break\n",
        "         finally:\n",
        "            print(\"Finally,I executed!\")\n",
        "         print(val)    "
      ],
      "execution_count": null,
      "outputs": []
    },
    {
      "cell_type": "code",
      "metadata": {
        "id": "B0Kf6Pj5u72v",
        "colab": {
          "base_uri": "https://localhost:8080/"
        },
        "outputId": "b8d67271-907a-41b3-f88d-bcf781ab7096"
      },
      "source": [
        "askint()"
      ],
      "execution_count": null,
      "outputs": [
        {
          "output_type": "stream",
          "name": "stdout",
          "text": [
            "Please enter an integer:abc\n",
            "Looks like you did not enter an integer!\n",
            "Finally,I executed!\n",
            "Please enter an integer:xyz\n",
            "Looks like you did not enter an integer!\n",
            "Finally,I executed!\n",
            "Please enter an integer:123\n",
            "Yeps thats an integer\n",
            "Finally,I executed!\n"
          ]
        }
      ]
    },
    {
      "cell_type": "markdown",
      "metadata": {
        "id": "G__bHYyTu72w"
      },
      "source": [
        "## Database connectivity and operations using Python.\n",
        "\n",
        "For Example, the following is the example of connecting with MySQL database \"my_database1\" and creating table grades1 and inserting values inside it."
      ]
    },
    {
      "cell_type": "code",
      "metadata": {
        "id": "Z-U4fDC-u72w",
        "colab": {
          "base_uri": "https://localhost:8080/"
        },
        "outputId": "4a501481-2fda-44d2-def7-76ba9286f05d"
      },
      "source": [
        "#!/usr/bin/python\n",
        "\n",
        "import sqlite3\n",
        "#connecting with the database.\n",
        "db = sqlite3.connect(\"my_database1.db\")\n",
        "# Drop table if it already exist using execute() method.\n",
        "db.execute(\"drop table if exists grades1\")\n",
        "# Create table as per requirement\n",
        "db.execute(\"create table grades1(id int,name text,score int)\")\n",
        "#inserting values inside the created table\n",
        "db.execute(\"insert into grades1(id,name,score) values(101,'john',99)\")\n",
        "db.execute(\"insert into grades1(id,name,score) values(102,'joy',91)\")\n",
        "db.execute(\"insert into grades1(id,name,score) values(103,'jaya',89)\")\n",
        "db.execute(\"insert into grades1(id,name,score) values(104,'Gary',90)\")\n",
        "db.execute(\"insert into grades1(id,name,score) values(105,'jaan',95)\")"
      ],
      "execution_count": null,
      "outputs": [
        {
          "output_type": "execute_result",
          "data": {
            "text/plain": [
              "<sqlite3.Cursor at 0x7fcdeb75fe30>"
            ]
          },
          "metadata": {},
          "execution_count": 56
        }
      ]
    },
    {
      "cell_type": "code",
      "metadata": {
        "id": "0A6UEEEHu72w"
      },
      "source": [
        "db.commit()"
      ],
      "execution_count": null,
      "outputs": []
    },
    {
      "cell_type": "code",
      "metadata": {
        "id": "nWqKbiCiu72x",
        "colab": {
          "base_uri": "https://localhost:8080/"
        },
        "outputId": "500cb520-97ed-4770-ccdd-82dfae91871b"
      },
      "source": [
        "results = db.execute(\"select * from grades1 order by id\")\n",
        "for rows in results:\n",
        "       print(rows)\n",
        "print(\"-\" * 60)"
      ],
      "execution_count": null,
      "outputs": [
        {
          "output_type": "stream",
          "name": "stdout",
          "text": [
            "(101, 'john', 99)\n",
            "(102, 'joy', 91)\n",
            "(103, 'jaya', 89)\n",
            "(104, 'Gary', 90)\n",
            "(105, 'jaan', 95)\n",
            "------------------------------------------------------------\n"
          ]
        }
      ]
    },
    {
      "cell_type": "code",
      "metadata": {
        "id": "g91eDNw1u72x",
        "colab": {
          "base_uri": "https://localhost:8080/"
        },
        "outputId": "354b7e2c-7dd8-4f43-a1e7-4db773dddb52"
      },
      "source": [
        "results = db.execute(\"select * from grades1 where name='Gary' \")\n",
        "for rows in results:\n",
        "       print(rows)\n",
        "print(\"-\" * 60)"
      ],
      "execution_count": null,
      "outputs": [
        {
          "output_type": "stream",
          "name": "stdout",
          "text": [
            "(104, 'Gary', 90)\n",
            "------------------------------------------------------------\n"
          ]
        }
      ]
    },
    {
      "cell_type": "code",
      "metadata": {
        "id": "4U0S0tx1u72x",
        "colab": {
          "base_uri": "https://localhost:8080/"
        },
        "outputId": "90905f28-07eb-49b5-acae-9ea5a24e6bd0"
      },
      "source": [
        "results = db.execute(\"select * from grades1 where score >= 90\")\n",
        "for rows in results:\n",
        "       print(rows)\n",
        "print(\"-\" * 60)"
      ],
      "execution_count": null,
      "outputs": [
        {
          "output_type": "stream",
          "name": "stdout",
          "text": [
            "(101, 'john', 99)\n",
            "(102, 'joy', 91)\n",
            "(104, 'Gary', 90)\n",
            "(105, 'jaan', 95)\n",
            "------------------------------------------------------------\n"
          ]
        }
      ]
    },
    {
      "cell_type": "code",
      "metadata": {
        "id": "daeJwvBWu72x",
        "colab": {
          "base_uri": "https://localhost:8080/"
        },
        "outputId": "4d15f623-c17c-4038-af1a-b622fdd89949"
      },
      "source": [
        "results = db.execute(\"select name, score from grades1 order by score desc\")\n",
        "for rows in results:\n",
        "       print(rows)\n",
        "print(\"-\" * 60)"
      ],
      "execution_count": null,
      "outputs": [
        {
          "output_type": "stream",
          "name": "stdout",
          "text": [
            "('john', 99)\n",
            "('jaan', 95)\n",
            "('joy', 91)\n",
            "('Gary', 90)\n",
            "('jaya', 89)\n",
            "------------------------------------------------------------\n"
          ]
        }
      ]
    },
    {
      "cell_type": "code",
      "metadata": {
        "id": "VDFPeUFWu72x",
        "colab": {
          "base_uri": "https://localhost:8080/"
        },
        "outputId": "82fd594e-57dd-42c0-9263-8747b068aa52"
      },
      "source": [
        "results = db.execute(\"select name, score from grades1 order by score \")\n",
        "for rows in results:\n",
        "       print(rows)\n",
        "print(\"-\" * 60)"
      ],
      "execution_count": null,
      "outputs": [
        {
          "output_type": "stream",
          "name": "stdout",
          "text": [
            "('jaya', 89)\n",
            "('Gary', 90)\n",
            "('joy', 91)\n",
            "('jaan', 95)\n",
            "('john', 99)\n",
            "------------------------------------------------------------\n"
          ]
        }
      ]
    },
    {
      "cell_type": "code",
      "metadata": {
        "id": "VyXnd2a_u72x"
      },
      "source": [
        ""
      ],
      "execution_count": null,
      "outputs": []
    },
    {
      "cell_type": "code",
      "metadata": {
        "id": "8taPmbTqu72y"
      },
      "source": [
        ""
      ],
      "execution_count": null,
      "outputs": []
    }
  ]
}