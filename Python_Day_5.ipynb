{
  "nbformat": 4,
  "nbformat_minor": 0,
  "metadata": {
    "kernelspec": {
      "display_name": "Python 3",
      "language": "python",
      "name": "python3"
    },
    "language_info": {
      "codemirror_mode": {
        "name": "ipython",
        "version": 3
      },
      "file_extension": ".py",
      "mimetype": "text/x-python",
      "name": "python",
      "nbconvert_exporter": "python",
      "pygments_lexer": "ipython3",
      "version": "3.7.3"
    },
    "colab": {
      "name": "Python Day 5.ipynb",
      "provenance": [],
      "include_colab_link": true
    }
  },
  "cells": [
    {
      "cell_type": "markdown",
      "metadata": {
        "id": "view-in-github",
        "colab_type": "text"
      },
      "source": [
        "<a href=\"https://colab.research.google.com/github/KaveriSP/INTERNSOFTcodefiles/blob/main/Python_Day_5.ipynb\" target=\"_parent\"><img src=\"https://colab.research.google.com/assets/colab-badge.svg\" alt=\"Open In Colab\"/></a>"
      ]
    },
    {
      "cell_type": "markdown",
      "metadata": {
        "id": "5aqkx8Lcu72a"
      },
      "source": [
        "# Modules and Packages"
      ]
    },
    {
      "cell_type": "markdown",
      "metadata": {
        "id": "_l9XGo5_u72g"
      },
      "source": [
        "Modules in Python are simply Python files with the .py extension, which implement a set of functions. Modules are imported from other modules using the import command. Before you go ahead and import modules, check out the full list of built-in modules in the Python Standard library.\n",
        "\n",
        "When a module is loaded into a running script for the first time, it is initialized by executing the code in the module once. If another module in your code imports the same module again, it will not be loaded twice but once only - so local variables inside the module act as a \"singleton\" - they are initialized only once.\n",
        "\n",
        "If we want to import module math,  we simply import the module:"
      ]
    },
    {
      "cell_type": "code",
      "metadata": {
        "id": "EPF6Ua4Du72h"
      },
      "source": [
        "# import the library\n"
      ],
      "execution_count": null,
      "outputs": []
    },
    {
      "cell_type": "code",
      "metadata": {
        "id": "x5fyFR_Nu72i"
      },
      "source": [
        "# use it (ceiling rounding)\n"
      ],
      "execution_count": null,
      "outputs": []
    },
    {
      "cell_type": "markdown",
      "metadata": {
        "id": "xmT0O41ju72j"
      },
      "source": [
        "## Exploring built-in modules\n",
        "\n",
        "While exploring modules in Python, two important functions come in handy - the dir and help functions. dir functions show which functions are implemented in each module. Let us see the below example and understand better."
      ]
    },
    {
      "cell_type": "code",
      "metadata": {
        "id": "HAifAOiAu72j"
      },
      "source": [
        ""
      ],
      "execution_count": null,
      "outputs": []
    },
    {
      "cell_type": "markdown",
      "metadata": {
        "id": "CkMrrui8u72k"
      },
      "source": [
        "When we find the function in the module we want to use, we can read about it more using the help function, inside the Python interpreter:"
      ]
    },
    {
      "cell_type": "code",
      "metadata": {
        "id": "soYtAU9_u72k"
      },
      "source": [
        ""
      ],
      "execution_count": null,
      "outputs": []
    },
    {
      "cell_type": "markdown",
      "metadata": {
        "id": "ZCbKeRA8u72l"
      },
      "source": [
        "## Writing modules\n",
        "Writing Python modules is very simple. To create a module of your own, simply create a new .py file with the module name, and then import it using the Python file name (without the .py extension) using the import command.\n",
        "\n",
        "## Writing packages\n",
        "Packages are name-spaces which contain multiple packages and modules themselves. They are simply directories, but with a twist.\n",
        "\n",
        "The twist is, each package in Python is a directory which MUST contain a special file called **\\__init\\__.py**. This file can be empty, and it indicates that the directory it contains is a Python package, so it can be imported the same way a module can be imported.\n",
        "\n",
        "If we create a directory called foo, which marks the package name, we can then create a module inside that package called bar. We also must not forget to add the **\\__init\\__.py** file inside the foo directory.\n",
        "\n",
        "To use the module bar, we can import it in two ways:"
      ]
    },
    {
      "cell_type": "code",
      "metadata": {
        "id": "wJ9mJ38Au72m"
      },
      "source": [
        "# Just an example, this won't work\n"
      ],
      "execution_count": null,
      "outputs": []
    },
    {
      "cell_type": "code",
      "metadata": {
        "id": "9eR5FnGau72n"
      },
      "source": [
        "# OR could do it this way\n"
      ],
      "execution_count": null,
      "outputs": []
    },
    {
      "cell_type": "markdown",
      "metadata": {
        "id": "xrsQoHStu72n"
      },
      "source": [
        "In the first method, we must use the foo prefix whenever we access the module bar. In the second method, we don't, because we import the module to our module's name-space.\n",
        "\n",
        "The **\\__init\\__.py** file can also decide which modules the package exports as the API, while keeping other modules internal, by overriding the **\\__all\\__** variable, like so:"
      ]
    },
    {
      "cell_type": "code",
      "metadata": {
        "id": "8VI0X3jGu72o"
      },
      "source": [
        ""
      ],
      "execution_count": null,
      "outputs": []
    },
    {
      "cell_type": "markdown",
      "metadata": {
        "id": "7BH31ClTu72o"
      },
      "source": [
        "# Errors and Exception Handling\n",
        "\n",
        "In this section, we will learn about Errors and Exception Handling in Python. You've might have definitely encountered errors by this point in the course. For example:"
      ]
    },
    {
      "cell_type": "code",
      "metadata": {
        "id": "eoYoV451u72q"
      },
      "source": [
        ""
      ],
      "execution_count": null,
      "outputs": []
    },
    {
      "cell_type": "markdown",
      "metadata": {
        "id": "oWQDhqEbu72q"
      },
      "source": [
        "Note how we get a SyntaxError, with the further description that it was an End of Line Error (EOL) while scanning the string literal. This is specific enough for us to see that we forgot a single quote at the end of the line. Understanding of these various error types will help you debug your code much faster. \n",
        "\n",
        "This type of error and description is known as an Exception. Even if a statement or expression is syntactically correct, it may cause an error when an attempt is made to execute it. Errors detected during execution are called exceptions and are not unconditionally fatal.\n",
        "\n",
        "You can check out the full list of built-in exceptions [here](https://docs.python.org/2/library/exceptions.html). Now, let's learn how to handle errors and exceptions in our own code."
      ]
    },
    {
      "cell_type": "markdown",
      "metadata": {
        "id": "LX1ww1REu72r"
      },
      "source": [
        "## try and except\n",
        "\n",
        "The basic terminology and syntax used to handle errors in Python is the **try** and **except** statements. The code which can cause an exception to occur is put in the *try* block and the handling of the exception are the implemented in the *except* block of code. The syntax form is:\n",
        "\n",
        "    try:\n",
        "       You do your operations here...\n",
        "       ...\n",
        "    except ExceptionI:\n",
        "       If there is ExceptionI, then execute this block.\n",
        "    except ExceptionII:\n",
        "       If there is ExceptionII, then execute this block.\n",
        "       ...\n",
        "    else:\n",
        "       If there is no exception then execute this block. \n",
        "\n",
        "Using just except, we can check for any exception: To understand better let's check out a sample code that opens and writes a file:"
      ]
    },
    {
      "cell_type": "code",
      "metadata": {
        "id": "7WW75efxu72r"
      },
      "source": [
        ""
      ],
      "execution_count": null,
      "outputs": []
    },
    {
      "cell_type": "markdown",
      "metadata": {
        "id": "kD6mdKiAu72s"
      },
      "source": [
        "Now, let's see what happens when we don't have write permission? (opening only with 'r'):"
      ]
    },
    {
      "cell_type": "code",
      "metadata": {
        "id": "yiDFi3GYu72s"
      },
      "source": [
        ""
      ],
      "execution_count": null,
      "outputs": []
    },
    {
      "cell_type": "markdown",
      "metadata": {
        "id": "d7hRmxOlu72s"
      },
      "source": [
        "Notice, how we only printed a statement! The code still ran and we were able to continue doing actions and running code blocks. This is extremely useful when you have to account for possible input errors in your code. You can be prepared for the error and keep running code, instead of your code just breaking as we saw above.\n",
        "\n",
        "We could have also just said except: if we weren't sure what exception would occur. For example:"
      ]
    },
    {
      "cell_type": "code",
      "metadata": {
        "id": "ITrI02Biu72s"
      },
      "source": [
        ""
      ],
      "execution_count": null,
      "outputs": []
    },
    {
      "cell_type": "markdown",
      "metadata": {
        "id": "3TTzT43Ju72t"
      },
      "source": [
        "Now, we don't actually need to memorize the list of exception types! Now what if we keep wanting to run code after the exception occurred? This is where **finally** comes in.\n",
        "##finally\n",
        "The finally: Block of code will always be run regardless if there was an exception in the try code block. The syntax is:\n",
        "\n",
        "    try:\n",
        "       Code block here\n",
        "       ...\n",
        "       Due to any exception, this code may be skipped!\n",
        "    finally:\n",
        "       This code block would always be executed.\n",
        "\n",
        "For example:"
      ]
    },
    {
      "cell_type": "code",
      "metadata": {
        "id": "kn0PSYHpu72t"
      },
      "source": [
        ""
      ],
      "execution_count": null,
      "outputs": []
    },
    {
      "cell_type": "markdown",
      "metadata": {
        "id": "ePWt2TJuu72u"
      },
      "source": [
        "We can use this in conjunction with except. Let's see a new example that will take into account a user putting in the wrong input:"
      ]
    },
    {
      "cell_type": "code",
      "metadata": {
        "id": "w9BOkfb7u72u"
      },
      "source": [
        "       "
      ],
      "execution_count": null,
      "outputs": []
    },
    {
      "cell_type": "code",
      "metadata": {
        "id": "WjT2Ogywu72u"
      },
      "source": [
        ""
      ],
      "execution_count": null,
      "outputs": []
    },
    {
      "cell_type": "code",
      "metadata": {
        "id": "86-rY836u72u"
      },
      "source": [
        ""
      ],
      "execution_count": null,
      "outputs": []
    },
    {
      "cell_type": "markdown",
      "metadata": {
        "id": "Uqg98dGHu72v"
      },
      "source": [
        "Check how we got an error when trying to print val (because it was properly assigned). Let's find the right solution by asking the user and checking to make sure the input type is an integer:"
      ]
    },
    {
      "cell_type": "code",
      "metadata": {
        "id": "VKYdAW80u72v"
      },
      "source": [
        ""
      ],
      "execution_count": null,
      "outputs": []
    },
    {
      "cell_type": "code",
      "metadata": {
        "id": "Q67WPGj8u72v"
      },
      "source": [
        ""
      ],
      "execution_count": null,
      "outputs": []
    },
    {
      "cell_type": "markdown",
      "metadata": {
        "id": "FZp84W3ku72v"
      },
      "source": [
        "Hmmm...that only did one check. How can we continually keep checking? We can use a while loop!"
      ]
    },
    {
      "cell_type": "code",
      "metadata": {
        "id": "B0Kf6Pj5u72v"
      },
      "source": [
        ""
      ],
      "execution_count": null,
      "outputs": []
    },
    {
      "cell_type": "code",
      "metadata": {
        "scrolled": true,
        "id": "PhCkvqsQu72w"
      },
      "source": [
        ""
      ],
      "execution_count": null,
      "outputs": []
    },
    {
      "cell_type": "markdown",
      "metadata": {
        "id": "G__bHYyTu72w"
      },
      "source": [
        "## Database connectivity and operations using Python.\n",
        "\n",
        "For Example, the following is the example of connecting with MySQL database \"my_database1\" and creating table grades1 and inserting values inside it."
      ]
    },
    {
      "cell_type": "code",
      "metadata": {
        "id": "Z-U4fDC-u72w"
      },
      "source": [
        "#!/usr/bin/python\n",
        "\n",
        "#connecting with the database.\n",
        "\n",
        "\n",
        "# Drop table if it already exist using execute() method.\n",
        "\n",
        "# Create table as per requirement\n",
        "\n",
        "#inserting values inside the created table\n"
      ],
      "execution_count": null,
      "outputs": []
    },
    {
      "cell_type": "code",
      "metadata": {
        "id": "0A6UEEEHu72w"
      },
      "source": [
        ""
      ],
      "execution_count": null,
      "outputs": []
    },
    {
      "cell_type": "code",
      "metadata": {
        "id": "nWqKbiCiu72x"
      },
      "source": [
        ""
      ],
      "execution_count": null,
      "outputs": []
    },
    {
      "cell_type": "code",
      "metadata": {
        "id": "g91eDNw1u72x"
      },
      "source": [
        ""
      ],
      "execution_count": null,
      "outputs": []
    },
    {
      "cell_type": "code",
      "metadata": {
        "id": "4U0S0tx1u72x"
      },
      "source": [
        ""
      ],
      "execution_count": null,
      "outputs": []
    },
    {
      "cell_type": "code",
      "metadata": {
        "id": "daeJwvBWu72x"
      },
      "source": [
        ""
      ],
      "execution_count": null,
      "outputs": []
    },
    {
      "cell_type": "code",
      "metadata": {
        "id": "VDFPeUFWu72x"
      },
      "source": [
        ""
      ],
      "execution_count": null,
      "outputs": []
    },
    {
      "cell_type": "code",
      "metadata": {
        "id": "VyXnd2a_u72x"
      },
      "source": [
        ""
      ],
      "execution_count": null,
      "outputs": []
    },
    {
      "cell_type": "code",
      "metadata": {
        "id": "8taPmbTqu72y"
      },
      "source": [
        ""
      ],
      "execution_count": null,
      "outputs": []
    }
  ]
}